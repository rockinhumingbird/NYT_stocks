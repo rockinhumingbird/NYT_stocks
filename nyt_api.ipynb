{
 "cells": [
  {
   "cell_type": "code",
   "execution_count": 11,
   "metadata": {},
   "outputs": [],
   "source": [
    "import requests\n",
    "import numpy as np\n",
    "import csv, json\n",
    "import pandas as pd\n",
    "import config# get my NYT keys"
   ]
  },
  {
   "cell_type": "markdown",
   "metadata": {},
   "source": [
    "# NYT API"
   ]
  },
  {
   "cell_type": "code",
   "execution_count": 3,
   "metadata": {},
   "outputs": [],
   "source": [
    "class APIKeyException(Exception):\n",
    "    def __init__(self, message): self.message = message \n",
    "\n",
    "class InvalidQueryException(Exception):\n",
    "    def __init__(self, message): self.message = message \n",
    "\n",
    "class ArchiveAPI(object):\n",
    "    def __init__(self, key=None):\n",
    "        \"\"\"\n",
    "        Initializes the ArchiveAPI class. Raises an exception if no API key is given.\n",
    "        :param key: New York Times API Key\n",
    "        \"\"\"\n",
    "        self.key = key\n",
    "        self.root = 'http://api.nytimes.com/svc/archive/v1/{}/{}.json?api-key={}' \n",
    "        if not self.key:\n",
    "            nyt_dev_page = 'http://developer.nytimes.com/docs/reference/keys'\n",
    "            exception_str = 'Warning: API Key required. Please visit {}'\n",
    "            raise NoAPIKeyException(exception_str.format(nyt_dev_page))\n",
    "\n",
    "    def query(self, year=None, month=None, key=None,):\n",
    "        \"\"\"\n",
    "        Calls the archive API and returns the results as a dictionary.\n",
    "        :param key: Defaults to the API key used to initialize the ArchiveAPI class.\n",
    "        \"\"\"\n",
    "        if not key: key = self.key\n",
    "        if (year < 1882) or not (0 < month < 13):\n",
    "            # currently the Archive API only supports year >= 1882\n",
    "            exception_str = 'Invalid query: See http://developer.nytimes.com/archive_api.json'\n",
    "            raise InvalidQueryException(exception_str)\n",
    "        url = self.root.format(year, month, key)\n",
    "        r = requests.get(url)\n",
    "        return r.json()\n",
    "\n",
    "\n",
    "api = ArchiveAPI(config.nytkey)\n",
    "\n",
    "\n",
    "years = [2009]\n",
    "months = [1,2,3,4,5,6,7,8,9,10,11,12]\n",
    "\n",
    "for year in years:\n",
    "    for month in months:\n",
    "        mydict = api.query(year, month)\n",
    "        file_str = '/Users/zoe/' + str(year) + '-' + '{:02}'.format(month) + '.json'\n",
    "        with open(file_str, 'w') as fout:\n",
    "            json.dump(mydict, fout)\n",
    "        fout.close()\n",
    "    "
   ]
  },
  {
   "cell_type": "code",
   "execution_count": 12,
   "metadata": {},
   "outputs": [],
   "source": [
    "years = [2009]\n",
    "months = [1,2,3,4,5,6,7,8,9,10,11,12]\n"
   ]
  },
  {
   "cell_type": "code",
   "execution_count": 13,
   "metadata": {},
   "outputs": [
    {
     "ename": "TypeError",
     "evalue": "unsupported format string passed to list.__format__",
     "output_type": "error",
     "traceback": [
      "\u001b[0;31m---------------------------------------------------------------------------\u001b[0m",
      "\u001b[0;31mTypeError\u001b[0m                                 Traceback (most recent call last)",
      "\u001b[0;32m<ipython-input-13-50560c0ff99c>\u001b[0m in \u001b[0;36m<module>\u001b[0;34m\u001b[0m\n\u001b[0;32m----> 1\u001b[0;31m \u001b[0mfile_str\u001b[0m \u001b[0;34m=\u001b[0m \u001b[0;34m'/Users/zoe/'\u001b[0m \u001b[0;34m+\u001b[0m \u001b[0mstr\u001b[0m\u001b[0;34m(\u001b[0m\u001b[0myears\u001b[0m\u001b[0;34m)\u001b[0m \u001b[0;34m+\u001b[0m \u001b[0;34m'-'\u001b[0m \u001b[0;34m+\u001b[0m \u001b[0;34m'{:02}'\u001b[0m\u001b[0;34m.\u001b[0m\u001b[0mformat\u001b[0m\u001b[0;34m(\u001b[0m\u001b[0mmonths\u001b[0m\u001b[0;34m)\u001b[0m \u001b[0;34m+\u001b[0m \u001b[0;34m'.json'\u001b[0m\u001b[0;34m\u001b[0m\u001b[0;34m\u001b[0m\u001b[0m\n\u001b[0m",
      "\u001b[0;31mTypeError\u001b[0m: unsupported format string passed to list.__format__"
     ]
    }
   ],
   "source": [
    "file_str = '/Users/zoe/' + str(years) + '-' + '{:02}'.format(months) + '.json'"
   ]
  },
  {
   "cell_type": "code",
   "execution_count": 6,
   "metadata": {},
   "outputs": [],
   "source": [
    "df = pd.read_csv('DJIA indices data.csv')"
   ]
  },
  {
   "cell_type": "code",
   "execution_count": 14,
   "metadata": {},
   "outputs": [],
   "source": [
    "with open('DJIA indices data.csv', 'r') as csvfile:\n",
    "    spamreader = csv.reader(csvfile, delimiter=',')\n",
    "    # Converting the csv file reader to a lists \n",
    "    data_list = list(spamreader)\n",
    "\n",
    "# Separating header from the data\n",
    "header = data_list[0] \n",
    "data_list = data_list[1:] \n",
    "\n",
    "data_list = np.asarray(data_list)\n",
    "\n",
    "# Selecting date and close value for each day\n",
    "selected_data = data_list[:, [0, 4, 6]]"
   ]
  },
  {
   "cell_type": "code",
   "execution_count": 15,
   "metadata": {},
   "outputs": [
    {
     "data": {
      "text/plain": [
       "array([['2016-12-30', '19762.599609', '19762.599609'],\n",
       "       ['2016-12-29', '19819.779297', '19819.779297'],\n",
       "       ['2016-12-28', '19833.679688', '19833.679688'],\n",
       "       ...,\n",
       "       ['2007-01-04', '12480.69043', '12480.69043'],\n",
       "       ['2007-01-03', '12474.519531', '12474.519531'],\n",
       "       ['2006-12-29', '12463.150391', '12463.150391']], dtype='<U12')"
      ]
     },
     "execution_count": 15,
     "metadata": {},
     "output_type": "execute_result"
    }
   ],
   "source": [
    "selected_data"
   ]
  },
  {
   "cell_type": "code",
   "execution_count": 10,
   "metadata": {},
   "outputs": [],
   "source": [
    "df = pd.DataFrame(data=selected_data[0:,1:],\n",
    "             index=selected_data[0:,0],\n",
    "                                columns=['close', 'adj close'],\n",
    "                                        dtype='float64')\n",
    "\n",
    "# Reference for pandas interpolation http://pandas.pydata.org/pandas-docs/stable/missing_data.html\n",
    "# Adding missing dates to the dataframe\n",
    "df1 = df\n",
    "idx = pd.date_range('12-29-2008', '12-31-2009')\n",
    "df1.index = pd.DatetimeIndex(df1.index)\n",
    "df1 = df1.reindex(idx, fill_value=np.NaN)\n",
    "# df1.count() # gives 2518 count\n",
    "interpolated_df = df1.interpolate()\n",
    "interpolated_df.count() # gives 3651 count\n",
    "\n",
    "# Removing extra date rows added in data for calculating interpolation\n",
    "interpolated_df = interpolated_df[3:]"
   ]
  },
  {
   "cell_type": "code",
   "execution_count": 11,
   "metadata": {},
   "outputs": [
    {
     "data": {
      "text/html": [
       "<div>\n",
       "<style scoped>\n",
       "    .dataframe tbody tr th:only-of-type {\n",
       "        vertical-align: middle;\n",
       "    }\n",
       "\n",
       "    .dataframe tbody tr th {\n",
       "        vertical-align: top;\n",
       "    }\n",
       "\n",
       "    .dataframe thead th {\n",
       "        text-align: right;\n",
       "    }\n",
       "</style>\n",
       "<table border=\"1\" class=\"dataframe\">\n",
       "  <thead>\n",
       "    <tr style=\"text-align: right;\">\n",
       "      <th></th>\n",
       "      <th>close</th>\n",
       "      <th>adj close</th>\n",
       "    </tr>\n",
       "  </thead>\n",
       "  <tbody>\n",
       "    <tr>\n",
       "      <th>2009-01-01</th>\n",
       "      <td>8905.540039</td>\n",
       "      <td>8905.540039</td>\n",
       "    </tr>\n",
       "    <tr>\n",
       "      <th>2009-01-02</th>\n",
       "      <td>9034.690430</td>\n",
       "      <td>9034.690430</td>\n",
       "    </tr>\n",
       "    <tr>\n",
       "      <th>2009-01-03</th>\n",
       "      <td>9007.423503</td>\n",
       "      <td>9007.423503</td>\n",
       "    </tr>\n",
       "    <tr>\n",
       "      <th>2009-01-04</th>\n",
       "      <td>8980.156575</td>\n",
       "      <td>8980.156575</td>\n",
       "    </tr>\n",
       "    <tr>\n",
       "      <th>2009-01-05</th>\n",
       "      <td>8952.889648</td>\n",
       "      <td>8952.889648</td>\n",
       "    </tr>\n",
       "    <tr>\n",
       "      <th>...</th>\n",
       "      <td>...</td>\n",
       "      <td>...</td>\n",
       "    </tr>\n",
       "    <tr>\n",
       "      <th>2009-12-27</th>\n",
       "      <td>10540.332519</td>\n",
       "      <td>10540.332519</td>\n",
       "    </tr>\n",
       "    <tr>\n",
       "      <th>2009-12-28</th>\n",
       "      <td>10547.080078</td>\n",
       "      <td>10547.080078</td>\n",
       "    </tr>\n",
       "    <tr>\n",
       "      <th>2009-12-29</th>\n",
       "      <td>10545.410156</td>\n",
       "      <td>10545.410156</td>\n",
       "    </tr>\n",
       "    <tr>\n",
       "      <th>2009-12-30</th>\n",
       "      <td>10548.509766</td>\n",
       "      <td>10548.509766</td>\n",
       "    </tr>\n",
       "    <tr>\n",
       "      <th>2009-12-31</th>\n",
       "      <td>10428.049805</td>\n",
       "      <td>10428.049805</td>\n",
       "    </tr>\n",
       "  </tbody>\n",
       "</table>\n",
       "<p>365 rows × 2 columns</p>\n",
       "</div>"
      ],
      "text/plain": [
       "                   close     adj close\n",
       "2009-01-01   8905.540039   8905.540039\n",
       "2009-01-02   9034.690430   9034.690430\n",
       "2009-01-03   9007.423503   9007.423503\n",
       "2009-01-04   8980.156575   8980.156575\n",
       "2009-01-05   8952.889648   8952.889648\n",
       "...                  ...           ...\n",
       "2009-12-27  10540.332519  10540.332519\n",
       "2009-12-28  10547.080078  10547.080078\n",
       "2009-12-29  10545.410156  10545.410156\n",
       "2009-12-30  10548.509766  10548.509766\n",
       "2009-12-31  10428.049805  10428.049805\n",
       "\n",
       "[365 rows x 2 columns]"
      ]
     },
     "execution_count": 11,
     "metadata": {},
     "output_type": "execute_result"
    }
   ],
   "source": [
    "interpolated_df"
   ]
  },
  {
   "cell_type": "code",
   "execution_count": 67,
   "metadata": {},
   "outputs": [],
   "source": [
    "date_format = [\"%Y-%m-%dT%H:%M:%SZ\", \"%Y-%m-%dT%H:%M:%S+%f\"]\n",
    "def try_parsing_date(text):\n",
    "    for fmt in date_format:\n",
    "        #return datetime.strptime(text, fmt)\n",
    "        try:\n",
    "            return datetime.strptime(text, fmt).strftime('%Y-%m-%d')\n",
    "        except ValueError:\n",
    "            pass\n",
    "    raise ValueError('no valid date format found')\n"
   ]
  },
  {
   "cell_type": "markdown",
   "metadata": {},
   "source": [
    "## Preparing NYTimes data\n",
    "# Function to parse and convert date format"
   ]
  },
  {
   "cell_type": "code",
   "execution_count": 8,
   "metadata": {},
   "outputs": [],
   "source": []
  },
  {
   "cell_type": "code",
   "execution_count": 3,
   "metadata": {},
   "outputs": [
    {
     "ename": "NameError",
     "evalue": "name 'interpolated_df' is not defined",
     "output_type": "error",
     "traceback": [
      "\u001b[0;31m---------------------------------------------------------------------------\u001b[0m",
      "\u001b[0;31mNameError\u001b[0m                                 Traceback (most recent call last)",
      "\u001b[0;32m<ipython-input-3-7abe2e0f7c2f>\u001b[0m in \u001b[0;36m<module>\u001b[0;34m\u001b[0m\n\u001b[1;32m     17\u001b[0m \u001b[0;34m\u001b[0m\u001b[0m\n\u001b[1;32m     18\u001b[0m \u001b[0;31m## Adding article column to dataframe\u001b[0m\u001b[0;34m\u001b[0m\u001b[0;34m\u001b[0m\u001b[0;34m\u001b[0m\u001b[0m\n\u001b[0;32m---> 19\u001b[0;31m \u001b[0minterpolated_df\u001b[0m\u001b[0;34m[\u001b[0m\u001b[0;34m\"articles\"\u001b[0m\u001b[0;34m]\u001b[0m \u001b[0;34m=\u001b[0m \u001b[0;34m''\u001b[0m\u001b[0;34m\u001b[0m\u001b[0;34m\u001b[0m\u001b[0m\n\u001b[0m\u001b[1;32m     20\u001b[0m \u001b[0mcount_articles_filtered\u001b[0m \u001b[0;34m=\u001b[0m \u001b[0;36m0\u001b[0m\u001b[0;34m\u001b[0m\u001b[0;34m\u001b[0m\u001b[0m\n\u001b[1;32m     21\u001b[0m \u001b[0mcount_total_articles\u001b[0m \u001b[0;34m=\u001b[0m \u001b[0;36m0\u001b[0m\u001b[0;34m\u001b[0m\u001b[0;34m\u001b[0m\u001b[0m\n",
      "\u001b[0;31mNameError\u001b[0m: name 'interpolated_df' is not defined"
     ]
    }
   ],
   "source": [
    "years = [2009]\n",
    "months = [1,2,3,4,5,6,7,8,9,10,11,12]\n",
    "\n",
    "dict_keys = ['pub_date', 'headline'] #, 'lead_paragraph']\n",
    "articles_dict = dict.fromkeys(dict_keys)\n",
    "# Filtering list for type_of_material\n",
    "type_of_material_list = ['blog', 'brief', 'news', 'editorial', 'op-ed', 'list','analysis']\n",
    "# Filtering list for section_name\n",
    "section_name_list = ['business', 'national', 'world', 'u.s.' , 'politics', 'opinion', 'tech', 'science',  'health']\n",
    "news_desk_list = ['business', 'national', 'world', 'u.s.' , 'politics', 'opinion', 'tech', 'science',  'health', 'foreign']\n",
    "\n",
    "current_date = '2020-01-09'\n",
    "from datetime import datetime\n",
    "\n",
    "\n",
    "current_article_str = ''      \n",
    "\n",
    "## Adding article column to dataframe\n",
    "interpolated_df[\"articles\"] = ''\n",
    "count_articles_filtered = 0\n",
    "count_total_articles = 0\n",
    "count_main_not_exist = 0               \n",
    "count_unicode_error = 0     \n",
    "count_attribute_error = 0   \n",
    "\n",
    "\n",
    "for date, row in interpolated_df.T.iteritems():   \n",
    "    if len(interpolated_df.loc[date, 'articles']) <= 400:\n",
    "        #print interpolated_df.loc[date, 'articles']\n",
    "        #print date\n",
    "        month = date.month\n",
    "        year = date.year\n",
    "        file_str = '/Users/zoe/' + str(2020) + '-' + '{:02}'.format(month) + '.json'\n",
    "        with open(file_str) as data_file:    \n",
    "            NYTimes_data = json.load(data_file)\n",
    "        count_total_articles = count_total_articles + len(NYTimes_data[\"response\"][\"docs\"][:])\n",
    "        interpolated_df.set_value(date.strftime('%Y-%m-%d'), 'articles', '')\n",
    "        for i in range(len(NYTimes_data[\"response\"][\"docs\"][:])):\n",
    "            try:\n",
    "                \n",
    "                articles_dict = { your_key: NYTimes_data[\"response\"][\"docs\"][:][i][your_key] for your_key in dict_keys }\n",
    "                articles_dict['headline'] = articles_dict['headline']['main'] # Selecting just 'main' from headline\n",
    "                #articles_dict['headline'] = articles_dict['lead_paragraph'] # Selecting lead_paragraph       \n",
    "                pub_date = try_parsing_date(articles_dict['pub_date'])\n",
    "                #print 'article_dict: ' + articles_dict['headline']\n",
    "                if date.strftime('%Y-%m-%d') == pub_date: \n",
    "                    interpolated_df.set_value(pub_date, 'articles', interpolated_df.loc[pub_date, 'articles'] + '. ' + articles_dict['headline'])  \n",
    "                \n",
    "            except KeyError:\n",
    "                print ('key error')\n",
    "                #print NYTimes_data[\"response\"][\"docs\"][:][i]\n",
    "                #count_main_not_exist += 1\n",
    "                pass   \n",
    "            except TypeError:\n",
    "                print (\"type error\")\n",
    "                #print NYTimes_data[\"response\"][\"docs\"][:][i]\n",
    "                #count_main_not_exist += 1\n",
    "                pass\n",
    "\n",
    "\n",
    "\n"
   ]
  },
  {
   "cell_type": "code",
   "execution_count": 70,
   "metadata": {},
   "outputs": [
    {
     "name": "stdout",
     "output_type": "stream",
     "text": [
      "0\n",
      "43741\n",
      "0\n",
      "0\n"
     ]
    }
   ],
   "source": [
    "print (count_articles_filtered) \n",
    "print (count_total_articles)                     \n",
    "print (count_main_not_exist)\n",
    "print (count_unicode_error)"
   ]
  },
  {
   "cell_type": "code",
   "execution_count": null,
   "metadata": {},
   "outputs": [],
   "source": [
    "interpolated_df"
   ]
  },
  {
   "cell_type": "markdown",
   "metadata": {},
   "source": [
    "## Putting all articles if no section_name or news_desk not found\n"
   ]
  },
  {
   "cell_type": "code",
   "execution_count": 1,
   "metadata": {},
   "outputs": [],
   "source": [
    "months = [1,2,3,4,5,6,7,8,9,10,11,12]\n"
   ]
  },
  {
   "cell_type": "code",
   "execution_count": 2,
   "metadata": {},
   "outputs": [
    {
     "ename": "NameError",
     "evalue": "name 'interpolated_df' is not defined",
     "output_type": "error",
     "traceback": [
      "\u001b[0;31m---------------------------------------------------------------------------\u001b[0m",
      "\u001b[0;31mNameError\u001b[0m                                 Traceback (most recent call last)",
      "\u001b[0;32m<ipython-input-2-679e125553a6>\u001b[0m in \u001b[0;36m<module>\u001b[0;34m\u001b[0m\n\u001b[0;32m----> 1\u001b[0;31m \u001b[0;32mfor\u001b[0m \u001b[0mdate\u001b[0m\u001b[0;34m,\u001b[0m \u001b[0mrow\u001b[0m \u001b[0;32min\u001b[0m \u001b[0minterpolated_df\u001b[0m\u001b[0;34m.\u001b[0m\u001b[0mT\u001b[0m\u001b[0;34m.\u001b[0m\u001b[0miteritems\u001b[0m\u001b[0;34m(\u001b[0m\u001b[0;34m)\u001b[0m\u001b[0;34m:\u001b[0m\u001b[0;34m\u001b[0m\u001b[0;34m\u001b[0m\u001b[0m\n\u001b[0m\u001b[1;32m      2\u001b[0m     \u001b[0;32mif\u001b[0m \u001b[0mlen\u001b[0m\u001b[0;34m(\u001b[0m\u001b[0minterpolated_df\u001b[0m\u001b[0;34m.\u001b[0m\u001b[0mloc\u001b[0m\u001b[0;34m[\u001b[0m\u001b[0mdate\u001b[0m\u001b[0;34m,\u001b[0m\u001b[0;34m'articles'\u001b[0m\u001b[0;34m]\u001b[0m\u001b[0;34m)\u001b[0m \u001b[0;34m<=\u001b[0m \u001b[0;36m400\u001b[0m\u001b[0;34m:\u001b[0m\u001b[0;34m\u001b[0m\u001b[0;34m\u001b[0m\u001b[0m\n\u001b[1;32m      3\u001b[0m         \u001b[0;31m#print interpolated_df.loc[date, 'articles']\u001b[0m\u001b[0;34m\u001b[0m\u001b[0;34m\u001b[0m\u001b[0;34m\u001b[0m\u001b[0m\n\u001b[1;32m      4\u001b[0m         \u001b[0;31m#print date\u001b[0m\u001b[0;34m\u001b[0m\u001b[0;34m\u001b[0m\u001b[0;34m\u001b[0m\u001b[0m\n\u001b[1;32m      5\u001b[0m         \u001b[0mmonth\u001b[0m \u001b[0;34m=\u001b[0m \u001b[0mdate\u001b[0m\u001b[0;34m.\u001b[0m\u001b[0mmonth\u001b[0m\u001b[0;34m\u001b[0m\u001b[0;34m\u001b[0m\u001b[0m\n",
      "\u001b[0;31mNameError\u001b[0m: name 'interpolated_df' is not defined"
     ]
    }
   ],
   "source": [
    "for date, row in interpolated_df.T.iteritems():   \n",
    "    if len(interpolated_df.loc[date,'articles']) <= 400:\n",
    "        #print interpolated_df.loc[date, 'articles']\n",
    "        #print date\n",
    "        month = date.month\n",
    "        year = date.year\n",
    "        file_str = '/Users/zoe/' + str(2009) + '-' + '{:02}'.format(month) + '.json'\n",
    "        with open(file_str) as data_file:    \n",
    "            NYTimes_data = json.load(data_file)\n",
    "        count_total_articles = count_total_articles + len(NYTimes_data[\"response\"][\"docs\"][:])\n",
    "        interpolated_df.set_value(date.strftime('%Y-%m-%d'), 'articles', '')\n",
    "       \n",
    "        for i in range(len(NYTimes_data[\"response\"][\"docs\"][:])):\n",
    "            try:\n",
    "                \n",
    "                articles_dict = { your_key: NYTimes_data[\"response\"][\"docs\"][:][i][your_key] for your_key in dict_keys }\n",
    "                articles_dict['headline'] = articles_dict['headline']['main'] # Selecting just 'main' from headline\n",
    "                #articles_dict['headline'] = articles_dict['lead_paragraph'] # Selecting lead_paragraph       \n",
    "                pub_date = try_parsing_date(articles_dict['pub_date'])\n",
    "                #print 'article_dict: ' + articles_dict['headline']\n",
    "                if date.strftime('%Y-%m-%d') == pub_date: \n",
    "                    interpolated_df.set_value(pub_date, 'articles', interpolated_df.loc[pub_date, 'articles'] + '. ' + articles_dict['headline'])  \n",
    "                \n",
    "            except KeyError:\n",
    "                print ('key error')\n",
    "                #print NYTimes_data[\"response\"][\"docs\"][:][i]\n",
    "                #count_main_not_exist += 1\n",
    "                pass   \n",
    "            except TypeError:\n",
    "                print (\"type error\")\n",
    "                #print NYTimes_data[\"response\"][\"docs\"][:][i]\n",
    "                #count_main_not_exist += 1\n",
    "                pass\n",
    "\n",
    "\n",
    "# Saving the data as pickle file\n",
    "interpolated_df.to_pickle('/Data/zoe_pickeled.pkl')  \n",
    "\n",
    "\n",
    "# Save pandas frame in csv form\n",
    "interpolated_df.to_csv('/Data/zoe_csv.csv',\n",
    "                       sep='\\t', encoding='utf-8')"
   ]
  },
  {
   "cell_type": "code",
   "execution_count": 50,
   "metadata": {},
   "outputs": [],
   "source": [
    "interpolated_df.to_csv('2017.csv')"
   ]
  },
  {
   "cell_type": "code",
   "execution_count": 49,
   "metadata": {},
   "outputs": [
    {
     "data": {
      "text/html": [
       "<div>\n",
       "<style scoped>\n",
       "    .dataframe tbody tr th:only-of-type {\n",
       "        vertical-align: middle;\n",
       "    }\n",
       "\n",
       "    .dataframe tbody tr th {\n",
       "        vertical-align: top;\n",
       "    }\n",
       "\n",
       "    .dataframe thead th {\n",
       "        text-align: right;\n",
       "    }\n",
       "</style>\n",
       "<table border=\"1\" class=\"dataframe\">\n",
       "  <thead>\n",
       "    <tr style=\"text-align: right;\">\n",
       "      <th></th>\n",
       "      <th>close</th>\n",
       "      <th>adj close</th>\n",
       "      <th>articles</th>\n",
       "    </tr>\n",
       "  </thead>\n",
       "  <tbody>\n",
       "    <tr>\n",
       "      <td>2017-01-01</td>\n",
       "      <td>NaN</td>\n",
       "      <td>NaN</td>\n",
       "      <td>. Angela Merkel, Russia’s Next Target. Little ...</td>\n",
       "    </tr>\n",
       "    <tr>\n",
       "      <td>2017-01-02</td>\n",
       "      <td>NaN</td>\n",
       "      <td>NaN</td>\n",
       "      <td>. John Berger, Provocative Art Critic, Dies at...</td>\n",
       "    </tr>\n",
       "    <tr>\n",
       "      <td>2017-01-03</td>\n",
       "      <td>19881.759766</td>\n",
       "      <td>339180000.0</td>\n",
       "      <td>. 5 Must-See Shows if You’re in New York This ...</td>\n",
       "    </tr>\n",
       "    <tr>\n",
       "      <td>2017-01-04</td>\n",
       "      <td>19942.160156</td>\n",
       "      <td>280010000.0</td>\n",
       "      <td>. Karel Husa, Pulitzer Prize-Winning Composer,...</td>\n",
       "    </tr>\n",
       "    <tr>\n",
       "      <td>2017-01-05</td>\n",
       "      <td>19899.289063</td>\n",
       "      <td>269920000.0</td>\n",
       "      <td>. A Higher Minimum Wage in 2017. Dan Coats, th...</td>\n",
       "    </tr>\n",
       "    <tr>\n",
       "      <td>...</td>\n",
       "      <td>...</td>\n",
       "      <td>...</td>\n",
       "      <td>...</td>\n",
       "    </tr>\n",
       "    <tr>\n",
       "      <td>2017-12-27</td>\n",
       "      <td>24774.300781</td>\n",
       "      <td>225890000.0</td>\n",
       "      <td>. Coping With Alzheimer’s, Together and Apart....</td>\n",
       "    </tr>\n",
       "    <tr>\n",
       "      <td>2017-12-28</td>\n",
       "      <td>24837.509766</td>\n",
       "      <td>200960000.0</td>\n",
       "      <td>. Redefining the Ballet Dancer, 50 Years Later...</td>\n",
       "    </tr>\n",
       "    <tr>\n",
       "      <td>2017-12-29</td>\n",
       "      <td>24719.220703</td>\n",
       "      <td>270760000.0</td>\n",
       "      <td>. Listen to ‘The Daily’: Blue-Collar Jobs in t...</td>\n",
       "    </tr>\n",
       "    <tr>\n",
       "      <td>2017-12-30</td>\n",
       "      <td>24719.220703</td>\n",
       "      <td>270760000.0</td>\n",
       "      <td>. In Deadly Bronx Blaze, Responders Battled Fi...</td>\n",
       "    </tr>\n",
       "    <tr>\n",
       "      <td>2017-12-31</td>\n",
       "      <td>24719.220703</td>\n",
       "      <td>270760000.0</td>\n",
       "      <td>. Congo Reports Arrest in Killing of 2 U.N. Ex...</td>\n",
       "    </tr>\n",
       "  </tbody>\n",
       "</table>\n",
       "<p>365 rows × 3 columns</p>\n",
       "</div>"
      ],
      "text/plain": [
       "                   close    adj close  \\\n",
       "2017-01-01           NaN          NaN   \n",
       "2017-01-02           NaN          NaN   \n",
       "2017-01-03  19881.759766  339180000.0   \n",
       "2017-01-04  19942.160156  280010000.0   \n",
       "2017-01-05  19899.289063  269920000.0   \n",
       "...                  ...          ...   \n",
       "2017-12-27  24774.300781  225890000.0   \n",
       "2017-12-28  24837.509766  200960000.0   \n",
       "2017-12-29  24719.220703  270760000.0   \n",
       "2017-12-30  24719.220703  270760000.0   \n",
       "2017-12-31  24719.220703  270760000.0   \n",
       "\n",
       "                                                     articles  \n",
       "2017-01-01  . Angela Merkel, Russia’s Next Target. Little ...  \n",
       "2017-01-02  . John Berger, Provocative Art Critic, Dies at...  \n",
       "2017-01-03  . 5 Must-See Shows if You’re in New York This ...  \n",
       "2017-01-04  . Karel Husa, Pulitzer Prize-Winning Composer,...  \n",
       "2017-01-05  . A Higher Minimum Wage in 2017. Dan Coats, th...  \n",
       "...                                                       ...  \n",
       "2017-12-27  . Coping With Alzheimer’s, Together and Apart....  \n",
       "2017-12-28  . Redefining the Ballet Dancer, 50 Years Later...  \n",
       "2017-12-29  . Listen to ‘The Daily’: Blue-Collar Jobs in t...  \n",
       "2017-12-30  . In Deadly Bronx Blaze, Responders Battled Fi...  \n",
       "2017-12-31  . Congo Reports Arrest in Killing of 2 U.N. Ex...  \n",
       "\n",
       "[365 rows x 3 columns]"
      ]
     },
     "execution_count": 49,
     "metadata": {},
     "output_type": "execute_result"
    }
   ],
   "source": [
    "interpolated_df"
   ]
  },
  {
   "cell_type": "code",
   "execution_count": 82,
   "metadata": {},
   "outputs": [],
   "source": [
    "interpolated_df = interpolated_df.iloc[:8,]"
   ]
  },
  {
   "cell_type": "code",
   "execution_count": 80,
   "metadata": {},
   "outputs": [
    {
     "data": {
      "text/html": [
       "<div>\n",
       "<style scoped>\n",
       "    .dataframe tbody tr th:only-of-type {\n",
       "        vertical-align: middle;\n",
       "    }\n",
       "\n",
       "    .dataframe tbody tr th {\n",
       "        vertical-align: top;\n",
       "    }\n",
       "\n",
       "    .dataframe thead th {\n",
       "        text-align: right;\n",
       "    }\n",
       "</style>\n",
       "<table border=\"1\" class=\"dataframe\">\n",
       "  <thead>\n",
       "    <tr style=\"text-align: right;\">\n",
       "      <th></th>\n",
       "      <th>close</th>\n",
       "      <th>adj close</th>\n",
       "      <th>articles</th>\n",
       "    </tr>\n",
       "  </thead>\n",
       "  <tbody>\n",
       "    <tr>\n",
       "      <td>2020-01-01</td>\n",
       "      <td>28703.620117</td>\n",
       "      <td>222580000.0</td>\n",
       "      <td>. Elizabeth Warren Isn’t Talking Much About ‘M...</td>\n",
       "    </tr>\n",
       "    <tr>\n",
       "      <td>2020-01-02</td>\n",
       "      <td>28868.800781</td>\n",
       "      <td>251820000.0</td>\n",
       "      <td>. N.B.A. Superstars, Growth and Lockouts: The ...</td>\n",
       "    </tr>\n",
       "    <tr>\n",
       "      <td>2020-01-03</td>\n",
       "      <td>28634.880859</td>\n",
       "      <td>239590000.0</td>\n",
       "      <td>. ‘The New Pope’ Looks a Lot Like John Malkovi...</td>\n",
       "    </tr>\n",
       "    <tr>\n",
       "      <td>2020-01-04</td>\n",
       "      <td>28657.714192</td>\n",
       "      <td>243980000.0</td>\n",
       "      <td>. Does the Buyer Have to Pay if the Seller Wal...</td>\n",
       "    </tr>\n",
       "    <tr>\n",
       "      <td>2020-01-05</td>\n",
       "      <td>28680.547526</td>\n",
       "      <td>248370000.0</td>\n",
       "      <td>. Vikings’ Overtime Touchdown Upsets Saints’ P...</td>\n",
       "    </tr>\n",
       "    <tr>\n",
       "      <td>2020-01-06</td>\n",
       "      <td>28703.380859</td>\n",
       "      <td>252760000.0</td>\n",
       "      <td>. No Corrections: Jan. 6, 2020. A Typical Trum...</td>\n",
       "    </tr>\n",
       "  </tbody>\n",
       "</table>\n",
       "</div>"
      ],
      "text/plain": [
       "                   close    adj close  \\\n",
       "2020-01-01  28703.620117  222580000.0   \n",
       "2020-01-02  28868.800781  251820000.0   \n",
       "2020-01-03  28634.880859  239590000.0   \n",
       "2020-01-04  28657.714192  243980000.0   \n",
       "2020-01-05  28680.547526  248370000.0   \n",
       "2020-01-06  28703.380859  252760000.0   \n",
       "\n",
       "                                                     articles  \n",
       "2020-01-01  . Elizabeth Warren Isn’t Talking Much About ‘M...  \n",
       "2020-01-02  . N.B.A. Superstars, Growth and Lockouts: The ...  \n",
       "2020-01-03  . ‘The New Pope’ Looks a Lot Like John Malkovi...  \n",
       "2020-01-04  . Does the Buyer Have to Pay if the Seller Wal...  \n",
       "2020-01-05  . Vikings’ Overtime Touchdown Upsets Saints’ P...  \n",
       "2020-01-06  . No Corrections: Jan. 6, 2020. A Typical Trum...  "
      ]
     },
     "execution_count": 80,
     "metadata": {},
     "output_type": "execute_result"
    }
   ],
   "source": [
    "interpolated_df"
   ]
  },
  {
   "cell_type": "code",
   "execution_count": 78,
   "metadata": {},
   "outputs": [],
   "source": [
    "interpolated_df.to_csv('2020.csv')"
   ]
  },
  {
   "cell_type": "code",
   "execution_count": null,
   "metadata": {},
   "outputs": [],
   "source": []
  }
 ],
 "metadata": {
  "kernelspec": {
   "display_name": "Python 3",
   "language": "python",
   "name": "python3"
  },
  "language_info": {
   "codemirror_mode": {
    "name": "ipython",
    "version": 3
   },
   "file_extension": ".py",
   "mimetype": "text/x-python",
   "name": "python",
   "nbconvert_exporter": "python",
   "pygments_lexer": "ipython3",
   "version": "3.7.1"
  }
 },
 "nbformat": 4,
 "nbformat_minor": 2
}
